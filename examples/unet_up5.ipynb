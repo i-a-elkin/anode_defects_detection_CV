{
 "cells": [
  {
   "cell_type": "markdown",
   "source": [
    "# Подготовка модели"
   ],
   "metadata": {
    "collapsed": false,
    "pycharm": {
     "name": "#%% md\n"
    }
   }
  },
  {
   "cell_type": "code",
   "execution_count": null,
   "outputs": [],
   "source": [
    "def unet(num_classes = 3, input_shape= (160, 160, 1)):\n",
    "    img_input = keras.Input(input_shape)\n",
    "\n",
    "    # Block 1\n",
    "    x = layers.Conv2D(64, (3, 3), padding='same', name='block1_conv1')(img_input)\n",
    "    x = layers.BatchNormalization()(x)\n",
    "    x = layers.Activation('relu')(x)\n",
    "    x = layers.Conv2D(64, (3, 3), padding='same', name='block1_conv2')(x)\n",
    "    x = layers.BatchNormalization()(x)\n",
    "    block_1_out = layers.Activation('relu')(x)\n",
    "\n",
    "    x = layers.MaxPooling2D()(block_1_out)\n",
    "\n",
    "    # Block 2\n",
    "    x = layers.Conv2D(128, (3, 3), padding='same', name='block2_conv1')(x)\n",
    "    x = layers.BatchNormalization()(x)\n",
    "    x = layers.Activation('relu')(x)\n",
    "    x = layers.Conv2D(128, (3, 3), padding='same', name='block2_conv2')(x)\n",
    "    x = layers.BatchNormalization()(x)\n",
    "    block_2_out = layers.Activation('relu')(x)\n",
    "\n",
    "    x = layers.MaxPooling2D()(block_2_out)\n",
    "\n",
    "    # Block 3\n",
    "    x = layers.Conv2D(256, (3, 3), padding='same', name='block3_conv1')(x)\n",
    "    x = layers.BatchNormalization()(x)\n",
    "    x = layers.Activation('relu')(x)\n",
    "    x = layers.Conv2D(256, (3, 3), padding='same', name='block3_conv2')(x)\n",
    "    x = layers.BatchNormalization()(x)\n",
    "    x = layers.Activation('relu')(x)\n",
    "    x = layers.Conv2D(256, (3, 3), padding='same', name='block3_conv3')(x)\n",
    "    x = layers.BatchNormalization()(x)\n",
    "    block_3_out = layers.Activation('relu')(x)\n",
    "\n",
    "    x = layers.MaxPooling2D()(block_3_out)\n",
    "\n",
    "    # Block 4\n",
    "    x = layers.Conv2D(512, (3, 3), padding='same', name='block4_conv1')(x)\n",
    "    x = layers.BatchNormalization()(x)\n",
    "    x = layers.Activation('relu')(x)\n",
    "    x = layers.Conv2D(512, (3, 3), padding='same', name='block4_conv2')(x)\n",
    "    x = layers.BatchNormalization()(x)\n",
    "    x = layers.Activation('relu')(x)\n",
    "    x = layers.Conv2D(512, (3, 3), padding='same', name='block4_conv3')(x)\n",
    "    x = layers.BatchNormalization()(x)\n",
    "    block_4_out = layers.Activation('relu')(x)\n",
    "###########################################################\n",
    "    x = layers.MaxPooling2D()(block_4_out)\n",
    "\n",
    "    # Block 5\n",
    "    x = layers.Conv2D(512, (3, 3), padding='same', name='block5_conv1')(x)\n",
    "    x = layers.BatchNormalization()(x)\n",
    "    x = layers.Activation('relu')(x)\n",
    "    x = layers.Conv2D(512, (3, 3), padding='same', name='block5_conv2')(x)\n",
    "    x = layers.BatchNormalization()(x)\n",
    "    x = layers.Activation('relu')(x)\n",
    "    x = layers.Conv2D(512, (3, 3), padding='same', name='block5_conv3')(x)\n",
    "    x = layers.BatchNormalization()(x)\n",
    "    x = layers.Activation('relu')(x)\n",
    "\n",
    "    # UP 1\n",
    "    x = layers.Conv2DTranspose(512, (2, 2), strides=(2, 2), padding='same', name = 'Conv2DTranspose_UP1')(x)\n",
    "    x = layers.BatchNormalization()(x)\n",
    "    x = layers.Activation('relu')(x)\n",
    "    x = layers.concatenate([x, block_4_out])\n",
    "    x = layers.Conv2D(512, (3, 3), padding='same')(x)\n",
    "    x = layers.BatchNormalization()(x)\n",
    "    x = layers.Activation('relu')(x)\n",
    "    x = layers.Conv2D(512, (3, 3), padding='same')(x)\n",
    "    x = layers.BatchNormalization()(x)\n",
    "    x = layers.Activation('relu')(x)\n",
    "###########################################################\n",
    "    # UP 2\n",
    "    x = layers.Conv2DTranspose(256, (2, 2), strides=(2, 2), padding='same', name = 'Conv2DTranspose_UP2')(x)\n",
    "    x = layers.BatchNormalization()(x)\n",
    "    x = layers.Activation('relu')(x)\n",
    "    x = layers.concatenate([x, block_3_out])\n",
    "    x = layers.Conv2D(256, (3, 3), padding='same')(x)\n",
    "    x = layers.BatchNormalization()(x)\n",
    "    x = layers.Activation('relu')(x)\n",
    "    x = layers.Conv2D(256, (3, 3), padding='same')(x)\n",
    "    x = layers.BatchNormalization()(x)\n",
    "    x = layers.Activation('relu')(x)\n",
    "\n",
    "    # UP 3\n",
    "    x = layers.Conv2DTranspose(128, (2, 2), strides=(2, 2), padding='same', name = 'Conv2DTranspose_UP3')(x)\n",
    "    x = layers.BatchNormalization()(x)\n",
    "    x = layers.Activation('relu')(x)\n",
    "    x = layers.concatenate([x, block_2_out])\n",
    "    x = layers.Conv2D(128, (3, 3), padding='same')(x)\n",
    "    x = layers.BatchNormalization()(x)\n",
    "    x = layers.Activation('relu')(x)\n",
    "    x = layers.Conv2D(128, (3, 3), padding='same')(x)\n",
    "    x = layers.BatchNormalization()(x)\n",
    "    x = layers.Activation('relu')(x)\n",
    "\n",
    "    # UP 4\n",
    "    x = layers.Conv2DTranspose(64, (2, 2), strides=(2, 2), padding='same', name = 'Conv2DTranspose_UP4')(x)\n",
    "    x = layers.BatchNormalization()(x)\n",
    "    x = layers.Activation('relu')(x)\n",
    "    x = layers.concatenate([x, block_1_out])\n",
    "    x = layers.Conv2D(64, (3, 3), padding='same')(x)\n",
    "    x = layers.BatchNormalization()(x)\n",
    "    x = layers.Activation('relu')(x)\n",
    "    x = layers.Conv2D(64, (3, 3), padding='same')(x)\n",
    "    x = layers.BatchNormalization()(x)\n",
    "    x = layers.Activation('relu')(x)\n",
    "\n",
    "    x = layers.Conv2D(num_classes, (3, 3), activation='softmax', padding='same')(x)\n",
    "\n",
    "    model = keras.Model(img_input, x)\n",
    "\n",
    "    return model\n",
    "\n",
    "# Free up RAM in case the model definition cells were run multiple times\n",
    "# keras.backend.clear_session()\n",
    "\n",
    "model = unet()\n",
    "model.summary()"
   ],
   "metadata": {
    "collapsed": false,
    "pycharm": {
     "name": "#%%\n",
     "is_executing": true
    }
   }
  },
  {
   "cell_type": "markdown",
   "source": [
    "# Тренировка модели"
   ],
   "metadata": {
    "collapsed": false,
    "pycharm": {
     "name": "#%% md\n"
    }
   }
  },
  {
   "cell_type": "code",
   "execution_count": null,
   "outputs": [],
   "source": [
    "model.compile(optimizer=keras.optimizers.Adam(learning_rate=0.005),\n",
    "              loss=\"categorical_crossentropy\",\n",
    "              metrics=[tf.keras.metrics.MeanIoU(num_classes=3)])\n",
    "\n",
    "callbacks = [\n",
    "    keras.callbacks.ModelCheckpoint(\"anode_defects_unet.h5\", save_best_only=True)\n",
    "]\n",
    "\n",
    "# Train the model, doing validation at the end of each epoch.\n",
    "epochs = 5\n",
    "model.fit(X, y, epochs=epochs, batch_size=None, validation_split=0.2, verbose=1, callbacks=callbacks)"
   ],
   "metadata": {
    "collapsed": false,
    "pycharm": {
     "name": "#%%\n",
     "is_executing": true
    }
   }
  }
 ],
 "metadata": {
  "kernelspec": {
   "display_name": "Python 3",
   "language": "python",
   "name": "python3"
  },
  "language_info": {
   "codemirror_mode": {
    "name": "ipython",
    "version": 2
   },
   "file_extension": ".py",
   "mimetype": "text/x-python",
   "name": "python",
   "nbconvert_exporter": "python",
   "pygments_lexer": "ipython2",
   "version": "2.7.6"
  }
 },
 "nbformat": 4,
 "nbformat_minor": 0
}